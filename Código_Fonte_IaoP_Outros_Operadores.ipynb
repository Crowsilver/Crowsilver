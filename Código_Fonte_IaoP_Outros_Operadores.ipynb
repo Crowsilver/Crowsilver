{
  "nbformat": 4,
  "nbformat_minor": 0,
  "metadata": {
    "colab": {
      "name": "Código Fonte IaoP - Outros Operadores.ipynb",
      "provenance": [],
      "collapsed_sections": [],
      "include_colab_link": true
    },
    "kernelspec": {
      "name": "python3",
      "display_name": "Python 3"
    },
    "language_info": {
      "name": "python"
    }
  },
  "cells": [
    {
      "cell_type": "markdown",
      "metadata": {
        "id": "view-in-github",
        "colab_type": "text"
      },
      "source": [
        "<a href=\"https://colab.research.google.com/github/Crowsilver/Crowsilver/blob/main/C%C3%B3digo_Fonte_IaoP_Outros_Operadores.ipynb\" target=\"_parent\"><img src=\"https://colab.research.google.com/assets/colab-badge.svg\" alt=\"Open In Colab\"/></a>"
      ]
    },
    {
      "cell_type": "markdown",
      "metadata": {
        "id": "P3KNAHQIvH-d"
      },
      "source": [
        "## 10. Alguns outros operadores"
      ]
    },
    {
      "cell_type": "markdown",
      "metadata": {
        "id": "rJRa3-GNvxsa"
      },
      "source": [
        "range"
      ]
    },
    {
      "cell_type": "code",
      "metadata": {
        "colab": {
          "base_uri": "https://localhost:8080/"
        },
        "id": "cXRRGvBUvzOc",
        "outputId": "1502ded8-ab0e-4bfc-fd31-01c32c82b5db"
      },
      "source": [
        "range(0,11)"
      ],
      "execution_count": null,
      "outputs": [
        {
          "output_type": "execute_result",
          "data": {
            "text/plain": [
              "range(0, 11)"
            ]
          },
          "metadata": {
            "tags": []
          },
          "execution_count": 31
        }
      ]
    },
    {
      "cell_type": "code",
      "metadata": {
        "colab": {
          "base_uri": "https://localhost:8080/"
        },
        "id": "_5mi6T-Pv2lU",
        "outputId": "31f4990e-fa85-4544-cb4c-f925b7a7cc77"
      },
      "source": [
        "list(range(0,11))"
      ],
      "execution_count": null,
      "outputs": [
        {
          "output_type": "execute_result",
          "data": {
            "text/plain": [
              "[0, 1, 2, 3, 4, 5, 6, 7, 8, 9, 10]"
            ]
          },
          "metadata": {
            "tags": []
          },
          "execution_count": 32
        }
      ]
    },
    {
      "cell_type": "code",
      "metadata": {
        "colab": {
          "base_uri": "https://localhost:8080/"
        },
        "id": "nzM33-TLwFkj",
        "outputId": "bff7f5a6-23b3-409e-d5e3-9c523d6cff0c"
      },
      "source": [
        "for carros in range(0,11):\n",
        "  print(carros)"
      ],
      "execution_count": null,
      "outputs": [
        {
          "output_type": "stream",
          "text": [
            "0\n",
            "1\n",
            "2\n",
            "3\n",
            "4\n",
            "5\n",
            "6\n",
            "7\n",
            "8\n",
            "9\n",
            "10\n"
          ],
          "name": "stdout"
        }
      ]
    },
    {
      "cell_type": "markdown",
      "metadata": {
        "id": "qEilJ8jjwLwd"
      },
      "source": [
        "enumerate"
      ]
    },
    {
      "cell_type": "code",
      "metadata": {
        "id": "PLFAFkrxLid4"
      },
      "source": [
        "acao = 'PETR4'"
      ],
      "execution_count": null,
      "outputs": []
    },
    {
      "cell_type": "code",
      "metadata": {
        "colab": {
          "base_uri": "https://localhost:8080/"
        },
        "id": "TgVKWJA7LmG7",
        "outputId": "1efe72f4-b83d-4b4b-c7bc-26b80c6ae6f1"
      },
      "source": [
        "index_count = 0\n",
        "\n",
        "for letra in acao:\n",
        "  print(\"No índice\", index_count, \"o caractere é\", letra)\n",
        "  index_count += 1"
      ],
      "execution_count": null,
      "outputs": [
        {
          "output_type": "stream",
          "text": [
            "No índice 0 o caractere é P\n",
            "No índice 1 o caractere é E\n",
            "No índice 2 o caractere é T\n",
            "No índice 3 o caractere é R\n",
            "No índice 4 o caractere é 4\n"
          ],
          "name": "stdout"
        }
      ]
    },
    {
      "cell_type": "code",
      "metadata": {
        "colab": {
          "base_uri": "https://localhost:8080/"
        },
        "id": "mz6Hbo9rL87g",
        "outputId": "1b438173-c93e-4f2f-8df7-b9443924795e"
      },
      "source": [
        "list(enumerate(acao))"
      ],
      "execution_count": null,
      "outputs": [
        {
          "output_type": "execute_result",
          "data": {
            "text/plain": [
              "[(0, 'P'), (1, 'E'), (2, 'T'), (3, 'R'), (4, '4')]"
            ]
          },
          "metadata": {
            "tags": []
          },
          "execution_count": 4
        }
      ]
    },
    {
      "cell_type": "code",
      "metadata": {
        "colab": {
          "base_uri": "https://localhost:8080/"
        },
        "id": "og1yPrEDMKnp",
        "outputId": "ea9b3ea4-83dc-4df2-9671-b6cb0d633a43"
      },
      "source": [
        "for i, letra in enumerate(acao):\n",
        "  print(\"No índice\", i, \"o caractere é\", letra)"
      ],
      "execution_count": null,
      "outputs": [
        {
          "output_type": "stream",
          "text": [
            "No índice 0 o caractere é P\n",
            "No índice 1 o caractere é E\n",
            "No índice 2 o caractere é T\n",
            "No índice 3 o caractere é R\n",
            "No índice 4 o caractere é 4\n"
          ],
          "name": "stdout"
        }
      ]
    },
    {
      "cell_type": "markdown",
      "metadata": {
        "id": "Am_HryU-MYbK"
      },
      "source": [
        "zip"
      ]
    },
    {
      "cell_type": "code",
      "metadata": {
        "id": "fQYqIwBXMh0X"
      },
      "source": [
        "acoes = ['PETR4', 'WEGE3', 'MGLU3', 'JHSF3', 'GOAU4']\n",
        "setores = ['Petróleo', 'Motores', 'Varejo', 'Construção', 'Metalurgia']"
      ],
      "execution_count": null,
      "outputs": []
    },
    {
      "cell_type": "code",
      "metadata": {
        "colab": {
          "base_uri": "https://localhost:8080/"
        },
        "id": "hFaMvx5GM8KQ",
        "outputId": "ad723d4b-0793-4b01-961e-8209ea9dc34a"
      },
      "source": [
        "list(zip(acoes, setores))"
      ],
      "execution_count": null,
      "outputs": [
        {
          "output_type": "execute_result",
          "data": {
            "text/plain": [
              "[('PETR4', 'Petróleo'),\n",
              " ('WEGE3', 'Motores'),\n",
              " ('MGLU3', 'Varejo'),\n",
              " ('JHSF3', 'Construção'),\n",
              " ('GOAU4', 'Metalurgia')]"
            ]
          },
          "metadata": {
            "tags": []
          },
          "execution_count": 8
        }
      ]
    },
    {
      "cell_type": "code",
      "metadata": {
        "colab": {
          "base_uri": "https://localhost:8080/"
        },
        "id": "IKoIC7YdM-77",
        "outputId": "36971871-52e8-4a4e-d625-e05fa43a1b30"
      },
      "source": [
        "for acao, setor in list(zip(acoes, setores)):\n",
        "  print('O papel', acao, 'pertence ao setor', setor)"
      ],
      "execution_count": null,
      "outputs": [
        {
          "output_type": "stream",
          "text": [
            "O papel PETR4 pertence ao setor Petróleo\n",
            "O papel WEGE3 pertence ao setor Motores\n",
            "O papel MGLU3 pertence ao setor Varejo\n",
            "O papel JHSF3 pertence ao setor Construção\n",
            "O papel GOAU4 pertence ao setor Metalurgia\n"
          ],
          "name": "stdout"
        }
      ]
    },
    {
      "cell_type": "code",
      "metadata": {
        "colab": {
          "base_uri": "https://localhost:8080/"
        },
        "id": "1Ck7huvlNTcM",
        "outputId": "c9b517f6-71aa-459b-b9db-c546dbc9bba7"
      },
      "source": [
        "for acao, setor in list(zip(acoes, setores)):\n",
        "  print(f'O papel {acao} pertence ao setor {setor} ')"
      ],
      "execution_count": null,
      "outputs": [
        {
          "output_type": "stream",
          "text": [
            "O papel PETR4 pertence ao setor Petróleo \n",
            "O papel WEGE3 pertence ao setor Motores \n",
            "O papel MGLU3 pertence ao setor Varejo \n",
            "O papel JHSF3 pertence ao setor Construção \n",
            "O papel GOAU4 pertence ao setor Metalurgia \n"
          ],
          "name": "stdout"
        }
      ]
    },
    {
      "cell_type": "markdown",
      "metadata": {
        "id": "I2UNE_i1Nh2J"
      },
      "source": [
        "in"
      ]
    },
    {
      "cell_type": "code",
      "metadata": {
        "colab": {
          "base_uri": "https://localhost:8080/"
        },
        "id": "BDZFnUI8NoM3",
        "outputId": "d83cff0f-0665-456c-c5a0-f2da20a94eea"
      },
      "source": [
        "'VIVR3' in acoes"
      ],
      "execution_count": null,
      "outputs": [
        {
          "output_type": "execute_result",
          "data": {
            "text/plain": [
              "False"
            ]
          },
          "metadata": {
            "tags": []
          },
          "execution_count": 11
        }
      ]
    },
    {
      "cell_type": "code",
      "metadata": {
        "colab": {
          "base_uri": "https://localhost:8080/"
        },
        "id": "6Hx-ip3yNvcD",
        "outputId": "04d857c8-445e-4da6-c9b5-10973155d52f"
      },
      "source": [
        "'WEGE3' in acoes"
      ],
      "execution_count": null,
      "outputs": [
        {
          "output_type": "execute_result",
          "data": {
            "text/plain": [
              "True"
            ]
          },
          "metadata": {
            "tags": []
          },
          "execution_count": 12
        }
      ]
    },
    {
      "cell_type": "markdown",
      "metadata": {
        "id": "_U2mVX2fNyDi"
      },
      "source": [
        "Random"
      ]
    },
    {
      "cell_type": "code",
      "metadata": {
        "id": "ehXXKfMLN1Z-"
      },
      "source": [
        "from random import randint, shuffle"
      ],
      "execution_count": null,
      "outputs": []
    },
    {
      "cell_type": "code",
      "metadata": {
        "colab": {
          "base_uri": "https://localhost:8080/"
        },
        "id": "HpuzQtfsN81C",
        "outputId": "0c51f74e-45d9-4024-d43a-bdea4c060044"
      },
      "source": [
        "randint(0,100)"
      ],
      "execution_count": null,
      "outputs": [
        {
          "output_type": "execute_result",
          "data": {
            "text/plain": [
              "89"
            ]
          },
          "metadata": {
            "tags": []
          },
          "execution_count": 14
        }
      ]
    },
    {
      "cell_type": "code",
      "metadata": {
        "id": "aTcHObu4Ob3Q"
      },
      "source": [
        "lista_rand = []\n",
        "\n",
        "for i in range(0,10):\n",
        "  lista_rand.append(randint(0,100))"
      ],
      "execution_count": null,
      "outputs": []
    },
    {
      "cell_type": "code",
      "metadata": {
        "colab": {
          "base_uri": "https://localhost:8080/"
        },
        "id": "x8mjirQHOnW4",
        "outputId": "d226bcf2-dd07-4709-8ea0-93a72944641e"
      },
      "source": [
        "lista_rand"
      ],
      "execution_count": null,
      "outputs": [
        {
          "output_type": "execute_result",
          "data": {
            "text/plain": [
              "[66, 44, 6, 79, 75, 27, 97, 42, 76, 21]"
            ]
          },
          "metadata": {
            "tags": []
          },
          "execution_count": 17
        }
      ]
    },
    {
      "cell_type": "code",
      "metadata": {
        "id": "wxsr1j-KOoOX"
      },
      "source": [
        "shuffle(lista_rand)"
      ],
      "execution_count": null,
      "outputs": []
    },
    {
      "cell_type": "code",
      "metadata": {
        "colab": {
          "base_uri": "https://localhost:8080/"
        },
        "id": "vNJQ0rLvOvIB",
        "outputId": "748b994c-6bc0-463b-cf8a-f7c62612eb7b"
      },
      "source": [
        "lista_rand"
      ],
      "execution_count": null,
      "outputs": [
        {
          "output_type": "execute_result",
          "data": {
            "text/plain": [
              "[27, 76, 75, 42, 79, 44, 21, 97, 66, 6]"
            ]
          },
          "metadata": {
            "tags": []
          },
          "execution_count": 19
        }
      ]
    },
    {
      "cell_type": "markdown",
      "metadata": {
        "id": "oB7UZD3GOwH4"
      },
      "source": [
        "min e max"
      ]
    },
    {
      "cell_type": "code",
      "metadata": {
        "colab": {
          "base_uri": "https://localhost:8080/"
        },
        "id": "77aq6dYAOzQ2",
        "outputId": "773aa1c3-a1e9-4e7a-a711-f45d504dfeda"
      },
      "source": [
        "min(lista_rand)"
      ],
      "execution_count": null,
      "outputs": [
        {
          "output_type": "execute_result",
          "data": {
            "text/plain": [
              "6"
            ]
          },
          "metadata": {
            "tags": []
          },
          "execution_count": 20
        }
      ]
    },
    {
      "cell_type": "code",
      "metadata": {
        "colab": {
          "base_uri": "https://localhost:8080/"
        },
        "id": "vynidvLBO0z1",
        "outputId": "7a50a401-ae43-4a78-fdea-6d5921d9a665"
      },
      "source": [
        "max(lista_rand)"
      ],
      "execution_count": null,
      "outputs": [
        {
          "output_type": "execute_result",
          "data": {
            "text/plain": [
              "97"
            ]
          },
          "metadata": {
            "tags": []
          },
          "execution_count": 21
        }
      ]
    },
    {
      "cell_type": "markdown",
      "metadata": {
        "id": "mCbL-mfLO2al"
      },
      "source": [
        "input"
      ]
    },
    {
      "cell_type": "code",
      "metadata": {
        "colab": {
          "base_uri": "https://localhost:8080/"
        },
        "id": "K06jZO9lO5PK",
        "outputId": "458efe34-9975-4a85-87df-0fe981e323a7"
      },
      "source": [
        "acao = input('Por favor insira a ação que deseja comprar: ')"
      ],
      "execution_count": null,
      "outputs": [
        {
          "output_type": "stream",
          "text": [
            "Por favor insira a ação que deseja comprar: MGLU3\n"
          ],
          "name": "stdout"
        }
      ]
    },
    {
      "cell_type": "code",
      "metadata": {
        "colab": {
          "base_uri": "https://localhost:8080/",
          "height": 35
        },
        "id": "WDDrNUFGPA9I",
        "outputId": "47e011bd-d1ad-401e-c962-f0cf182d87c8"
      },
      "source": [
        "acao"
      ],
      "execution_count": null,
      "outputs": [
        {
          "output_type": "execute_result",
          "data": {
            "application/vnd.google.colaboratory.intrinsic+json": {
              "type": "string"
            },
            "text/plain": [
              "'MGLU3'"
            ]
          },
          "metadata": {
            "tags": []
          },
          "execution_count": 23
        }
      ]
    },
    {
      "cell_type": "code",
      "metadata": {
        "colab": {
          "base_uri": "https://localhost:8080/"
        },
        "id": "McqBri0OPHP_",
        "outputId": "67e63ce9-92ad-4934-a809-7325963ef9ea"
      },
      "source": [
        "print(f'O cliente deseja comprar o papel {acao} ')"
      ],
      "execution_count": null,
      "outputs": [
        {
          "output_type": "stream",
          "text": [
            "O cliente deseja comprar o papel MGLU3 \n"
          ],
          "name": "stdout"
        }
      ]
    },
    {
      "cell_type": "markdown",
      "metadata": {
        "id": "8ToMK_pcPNu0"
      },
      "source": [
        "## 11. List Comprehension (Compreensão de Lista)"
      ]
    },
    {
      "cell_type": "code",
      "metadata": {
        "id": "i-V_Bl6zQQME"
      },
      "source": [
        "acao = 'MGLU3'"
      ],
      "execution_count": null,
      "outputs": []
    },
    {
      "cell_type": "code",
      "metadata": {
        "colab": {
          "base_uri": "https://localhost:8080/"
        },
        "id": "hixBz1I6QVD8",
        "outputId": "2cb79bff-454a-4344-b7c1-12a78f7d961c"
      },
      "source": [
        "for caractere in acao:\n",
        "  print(caractere)"
      ],
      "execution_count": null,
      "outputs": [
        {
          "output_type": "stream",
          "text": [
            "M\n",
            "G\n",
            "L\n",
            "U\n",
            "3\n"
          ],
          "name": "stdout"
        }
      ]
    },
    {
      "cell_type": "code",
      "metadata": {
        "id": "V8N31gokQbOk"
      },
      "source": [
        "lista_caracteres = []"
      ],
      "execution_count": null,
      "outputs": []
    },
    {
      "cell_type": "code",
      "metadata": {
        "id": "eTuGNHqPQgoU"
      },
      "source": [
        "for caractere in acao:\n",
        "  lista_caracteres.append(caractere)"
      ],
      "execution_count": null,
      "outputs": []
    },
    {
      "cell_type": "code",
      "metadata": {
        "colab": {
          "base_uri": "https://localhost:8080/"
        },
        "id": "-BqGCPhDRIn8",
        "outputId": "74fa1607-377e-47f8-fc8b-940d0650f310"
      },
      "source": [
        "lista_caracteres"
      ],
      "execution_count": null,
      "outputs": [
        {
          "output_type": "execute_result",
          "data": {
            "text/plain": [
              "['M', 'G', 'L', 'U', '3']"
            ]
          },
          "metadata": {
            "tags": []
          },
          "execution_count": 33
        }
      ]
    },
    {
      "cell_type": "code",
      "metadata": {
        "colab": {
          "base_uri": "https://localhost:8080/",
          "height": 35
        },
        "id": "L4O9N-BbQvUd",
        "outputId": "67f2244f-ed81-48a4-81e8-d569593a9f33"
      },
      "source": [
        "lista_caracteres[1]"
      ],
      "execution_count": null,
      "outputs": [
        {
          "output_type": "execute_result",
          "data": {
            "application/vnd.google.colaboratory.intrinsic+json": {
              "type": "string"
            },
            "text/plain": [
              "'G'"
            ]
          },
          "metadata": {
            "tags": []
          },
          "execution_count": 31
        }
      ]
    },
    {
      "cell_type": "code",
      "metadata": {
        "colab": {
          "base_uri": "https://localhost:8080/"
        },
        "id": "m6WYK-caQwWO",
        "outputId": "ec52ac37-579e-4267-88c7-0966f646f789"
      },
      "source": [
        "[caractere for caractere in acao]"
      ],
      "execution_count": null,
      "outputs": [
        {
          "output_type": "execute_result",
          "data": {
            "text/plain": [
              "['M', 'G', 'L', 'U', '3']"
            ]
          },
          "metadata": {
            "tags": []
          },
          "execution_count": 32
        }
      ]
    },
    {
      "cell_type": "code",
      "metadata": {
        "id": "WfP49xwZRHEa"
      },
      "source": [
        "list_num = []\n",
        "\n",
        "for num in range(0,11):\n",
        "  list_num.append(num**2)"
      ],
      "execution_count": null,
      "outputs": []
    },
    {
      "cell_type": "code",
      "metadata": {
        "colab": {
          "base_uri": "https://localhost:8080/"
        },
        "id": "XLAibJzjRmsB",
        "outputId": "d5613654-6978-4c04-e434-5476c6595f3f"
      },
      "source": [
        "list_num"
      ],
      "execution_count": null,
      "outputs": [
        {
          "output_type": "execute_result",
          "data": {
            "text/plain": [
              "[0, 1, 4, 9, 16, 25, 36, 49, 64, 81, 100]"
            ]
          },
          "metadata": {
            "tags": []
          },
          "execution_count": 35
        }
      ]
    },
    {
      "cell_type": "code",
      "metadata": {
        "colab": {
          "base_uri": "https://localhost:8080/"
        },
        "id": "K5ap4QDkRnp6",
        "outputId": "6fa69fc3-fe38-44e1-cb7d-57877c604fa9"
      },
      "source": [
        "[num**2 for num in range(0,11)]"
      ],
      "execution_count": null,
      "outputs": [
        {
          "output_type": "execute_result",
          "data": {
            "text/plain": [
              "[0, 1, 4, 9, 16, 25, 36, 49, 64, 81, 100]"
            ]
          },
          "metadata": {
            "tags": []
          },
          "execution_count": 36
        }
      ]
    }
  ]
}